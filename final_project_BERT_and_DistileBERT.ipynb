{
 "cells": [
  {
   "cell_type": "code",
   "execution_count": 1,
   "metadata": {
    "colab": {
     "base_uri": "https://localhost:8080/"
    },
    "id": "xFtmlt6RFgRh",
    "outputId": "9b52efce-cdeb-4442-8d2e-462ccd5298f3"
   },
   "outputs": [
    {
     "name": "stdout",
     "output_type": "stream",
     "text": [
      "Requirement already satisfied: tensorflow==2.12.0 in /usr/local/lib/python3.10/dist-packages (2.12.0)\n",
      "Requirement already satisfied: absl-py>=1.0.0 in /usr/local/lib/python3.10/dist-packages (from tensorflow==2.12.0) (1.4.0)\n",
      "Requirement already satisfied: astunparse>=1.6.0 in /usr/local/lib/python3.10/dist-packages (from tensorflow==2.12.0) (1.6.3)\n",
      "Requirement already satisfied: flatbuffers>=2.0 in /usr/local/lib/python3.10/dist-packages (from tensorflow==2.12.0) (24.3.25)\n",
      "Requirement already satisfied: gast<=0.4.0,>=0.2.1 in /usr/local/lib/python3.10/dist-packages (from tensorflow==2.12.0) (0.4.0)\n",
      "Requirement already satisfied: google-pasta>=0.1.1 in /usr/local/lib/python3.10/dist-packages (from tensorflow==2.12.0) (0.2.0)\n",
      "Requirement already satisfied: grpcio<2.0,>=1.24.3 in /usr/local/lib/python3.10/dist-packages (from tensorflow==2.12.0) (1.64.0)\n",
      "Requirement already satisfied: h5py>=2.9.0 in /usr/local/lib/python3.10/dist-packages (from tensorflow==2.12.0) (3.9.0)\n",
      "Requirement already satisfied: jax>=0.3.15 in /usr/local/lib/python3.10/dist-packages (from tensorflow==2.12.0) (0.4.26)\n",
      "Requirement already satisfied: keras<2.13,>=2.12.0 in /usr/local/lib/python3.10/dist-packages (from tensorflow==2.12.0) (2.12.0)\n",
      "Requirement already satisfied: libclang>=13.0.0 in /usr/local/lib/python3.10/dist-packages (from tensorflow==2.12.0) (18.1.1)\n",
      "Requirement already satisfied: numpy<1.24,>=1.22 in /usr/local/lib/python3.10/dist-packages (from tensorflow==2.12.0) (1.23.5)\n",
      "Requirement already satisfied: opt-einsum>=2.3.2 in /usr/local/lib/python3.10/dist-packages (from tensorflow==2.12.0) (3.3.0)\n",
      "Requirement already satisfied: packaging in /usr/local/lib/python3.10/dist-packages (from tensorflow==2.12.0) (24.0)\n",
      "Requirement already satisfied: protobuf!=4.21.0,!=4.21.1,!=4.21.2,!=4.21.3,!=4.21.4,!=4.21.5,<5.0.0dev,>=3.20.3 in /usr/local/lib/python3.10/dist-packages (from tensorflow==2.12.0) (3.20.3)\n",
      "Requirement already satisfied: setuptools in /usr/local/lib/python3.10/dist-packages (from tensorflow==2.12.0) (67.7.2)\n",
      "Requirement already satisfied: six>=1.12.0 in /usr/local/lib/python3.10/dist-packages (from tensorflow==2.12.0) (1.16.0)\n",
      "Requirement already satisfied: tensorboard<2.13,>=2.12 in /usr/local/lib/python3.10/dist-packages (from tensorflow==2.12.0) (2.12.3)\n",
      "Requirement already satisfied: tensorflow-estimator<2.13,>=2.12.0 in /usr/local/lib/python3.10/dist-packages (from tensorflow==2.12.0) (2.12.0)\n",
      "Requirement already satisfied: termcolor>=1.1.0 in /usr/local/lib/python3.10/dist-packages (from tensorflow==2.12.0) (2.4.0)\n",
      "Requirement already satisfied: typing-extensions>=3.6.6 in /usr/local/lib/python3.10/dist-packages (from tensorflow==2.12.0) (4.11.0)\n",
      "Requirement already satisfied: wrapt<1.15,>=1.11.0 in /usr/local/lib/python3.10/dist-packages (from tensorflow==2.12.0) (1.14.1)\n",
      "Requirement already satisfied: tensorflow-io-gcs-filesystem>=0.23.1 in /usr/local/lib/python3.10/dist-packages (from tensorflow==2.12.0) (0.37.0)\n",
      "Requirement already satisfied: wheel<1.0,>=0.23.0 in /usr/local/lib/python3.10/dist-packages (from astunparse>=1.6.0->tensorflow==2.12.0) (0.43.0)\n",
      "Requirement already satisfied: ml-dtypes>=0.2.0 in /usr/local/lib/python3.10/dist-packages (from jax>=0.3.15->tensorflow==2.12.0) (0.2.0)\n",
      "Requirement already satisfied: scipy>=1.9 in /usr/local/lib/python3.10/dist-packages (from jax>=0.3.15->tensorflow==2.12.0) (1.11.4)\n",
      "Requirement already satisfied: google-auth<3,>=1.6.3 in /usr/local/lib/python3.10/dist-packages (from tensorboard<2.13,>=2.12->tensorflow==2.12.0) (2.27.0)\n",
      "Requirement already satisfied: google-auth-oauthlib<1.1,>=0.5 in /usr/local/lib/python3.10/dist-packages (from tensorboard<2.13,>=2.12->tensorflow==2.12.0) (1.0.0)\n",
      "Requirement already satisfied: markdown>=2.6.8 in /usr/local/lib/python3.10/dist-packages (from tensorboard<2.13,>=2.12->tensorflow==2.12.0) (3.6)\n",
      "Requirement already satisfied: requests<3,>=2.21.0 in /usr/local/lib/python3.10/dist-packages (from tensorboard<2.13,>=2.12->tensorflow==2.12.0) (2.31.0)\n",
      "Requirement already satisfied: tensorboard-data-server<0.8.0,>=0.7.0 in /usr/local/lib/python3.10/dist-packages (from tensorboard<2.13,>=2.12->tensorflow==2.12.0) (0.7.2)\n",
      "Requirement already satisfied: werkzeug>=1.0.1 in /usr/local/lib/python3.10/dist-packages (from tensorboard<2.13,>=2.12->tensorflow==2.12.0) (3.0.3)\n",
      "Requirement already satisfied: cachetools<6.0,>=2.0.0 in /usr/local/lib/python3.10/dist-packages (from google-auth<3,>=1.6.3->tensorboard<2.13,>=2.12->tensorflow==2.12.0) (5.3.3)\n",
      "Requirement already satisfied: pyasn1-modules>=0.2.1 in /usr/local/lib/python3.10/dist-packages (from google-auth<3,>=1.6.3->tensorboard<2.13,>=2.12->tensorflow==2.12.0) (0.4.0)\n",
      "Requirement already satisfied: rsa<5,>=3.1.4 in /usr/local/lib/python3.10/dist-packages (from google-auth<3,>=1.6.3->tensorboard<2.13,>=2.12->tensorflow==2.12.0) (4.9)\n",
      "Requirement already satisfied: requests-oauthlib>=0.7.0 in /usr/local/lib/python3.10/dist-packages (from google-auth-oauthlib<1.1,>=0.5->tensorboard<2.13,>=2.12->tensorflow==2.12.0) (1.3.1)\n",
      "Requirement already satisfied: charset-normalizer<4,>=2 in /usr/local/lib/python3.10/dist-packages (from requests<3,>=2.21.0->tensorboard<2.13,>=2.12->tensorflow==2.12.0) (3.3.2)\n",
      "Requirement already satisfied: idna<4,>=2.5 in /usr/local/lib/python3.10/dist-packages (from requests<3,>=2.21.0->tensorboard<2.13,>=2.12->tensorflow==2.12.0) (3.7)\n",
      "Requirement already satisfied: urllib3<3,>=1.21.1 in /usr/local/lib/python3.10/dist-packages (from requests<3,>=2.21.0->tensorboard<2.13,>=2.12->tensorflow==2.12.0) (2.0.7)\n",
      "Requirement already satisfied: certifi>=2017.4.17 in /usr/local/lib/python3.10/dist-packages (from requests<3,>=2.21.0->tensorboard<2.13,>=2.12->tensorflow==2.12.0) (2024.2.2)\n",
      "Requirement already satisfied: MarkupSafe>=2.1.1 in /usr/local/lib/python3.10/dist-packages (from werkzeug>=1.0.1->tensorboard<2.13,>=2.12->tensorflow==2.12.0) (2.1.5)\n",
      "Requirement already satisfied: pyasn1<0.7.0,>=0.4.6 in /usr/local/lib/python3.10/dist-packages (from pyasn1-modules>=0.2.1->google-auth<3,>=1.6.3->tensorboard<2.13,>=2.12->tensorflow==2.12.0) (0.6.0)\n",
      "Requirement already satisfied: oauthlib>=3.0.0 in /usr/local/lib/python3.10/dist-packages (from requests-oauthlib>=0.7.0->google-auth-oauthlib<1.1,>=0.5->tensorboard<2.13,>=2.12->tensorflow==2.12.0) (3.2.2)\n",
      "Requirement already satisfied: keras==2.12.0 in /usr/local/lib/python3.10/dist-packages (2.12.0)\n",
      "Requirement already satisfied: transformers==4.28.0 in /usr/local/lib/python3.10/dist-packages (4.28.0)\n",
      "Requirement already satisfied: filelock in /usr/local/lib/python3.10/dist-packages (from transformers==4.28.0) (3.14.0)\n",
      "Requirement already satisfied: huggingface-hub<1.0,>=0.11.0 in /usr/local/lib/python3.10/dist-packages (from transformers==4.28.0) (0.23.1)\n",
      "Requirement already satisfied: numpy>=1.17 in /usr/local/lib/python3.10/dist-packages (from transformers==4.28.0) (1.23.5)\n",
      "Requirement already satisfied: packaging>=20.0 in /usr/local/lib/python3.10/dist-packages (from transformers==4.28.0) (24.0)\n",
      "Requirement already satisfied: pyyaml>=5.1 in /usr/local/lib/python3.10/dist-packages (from transformers==4.28.0) (6.0.1)\n",
      "Requirement already satisfied: regex!=2019.12.17 in /usr/local/lib/python3.10/dist-packages (from transformers==4.28.0) (2023.12.25)\n",
      "Requirement already satisfied: requests in /usr/local/lib/python3.10/dist-packages (from transformers==4.28.0) (2.31.0)\n",
      "Requirement already satisfied: tokenizers!=0.11.3,<0.14,>=0.11.1 in /usr/local/lib/python3.10/dist-packages (from transformers==4.28.0) (0.13.3)\n",
      "Requirement already satisfied: tqdm>=4.27 in /usr/local/lib/python3.10/dist-packages (from transformers==4.28.0) (4.66.4)\n",
      "Requirement already satisfied: fsspec>=2023.5.0 in /usr/local/lib/python3.10/dist-packages (from huggingface-hub<1.0,>=0.11.0->transformers==4.28.0) (2023.6.0)\n",
      "Requirement already satisfied: typing-extensions>=3.7.4.3 in /usr/local/lib/python3.10/dist-packages (from huggingface-hub<1.0,>=0.11.0->transformers==4.28.0) (4.11.0)\n",
      "Requirement already satisfied: charset-normalizer<4,>=2 in /usr/local/lib/python3.10/dist-packages (from requests->transformers==4.28.0) (3.3.2)\n",
      "Requirement already satisfied: idna<4,>=2.5 in /usr/local/lib/python3.10/dist-packages (from requests->transformers==4.28.0) (3.7)\n",
      "Requirement already satisfied: urllib3<3,>=1.21.1 in /usr/local/lib/python3.10/dist-packages (from requests->transformers==4.28.0) (2.0.7)\n",
      "Requirement already satisfied: certifi>=2017.4.17 in /usr/local/lib/python3.10/dist-packages (from requests->transformers==4.28.0) (2024.2.2)\n",
      "Requirement already satisfied: ktrain in /usr/local/lib/python3.10/dist-packages (0.41.3)\n",
      "Requirement already satisfied: scikit-learn in /usr/local/lib/python3.10/dist-packages (from ktrain) (1.2.2)\n",
      "Requirement already satisfied: matplotlib>=3.0.0 in /usr/local/lib/python3.10/dist-packages (from ktrain) (3.7.1)\n",
      "Requirement already satisfied: pandas>=1.0.1 in /usr/local/lib/python3.10/dist-packages (from ktrain) (2.0.3)\n",
      "Requirement already satisfied: fastprogress>=0.1.21 in /usr/local/lib/python3.10/dist-packages (from ktrain) (1.0.3)\n",
      "Requirement already satisfied: requests in /usr/local/lib/python3.10/dist-packages (from ktrain) (2.31.0)\n",
      "Requirement already satisfied: joblib in /usr/local/lib/python3.10/dist-packages (from ktrain) (1.4.2)\n",
      "Requirement already satisfied: packaging in /usr/local/lib/python3.10/dist-packages (from ktrain) (24.0)\n",
      "Requirement already satisfied: langdetect in /usr/local/lib/python3.10/dist-packages (from ktrain) (1.0.9)\n",
      "Requirement already satisfied: jieba in /usr/local/lib/python3.10/dist-packages (from ktrain) (0.42.1)\n",
      "Requirement already satisfied: charset-normalizer in /usr/local/lib/python3.10/dist-packages (from ktrain) (3.3.2)\n",
      "Requirement already satisfied: chardet in /usr/local/lib/python3.10/dist-packages (from ktrain) (5.2.0)\n",
      "Requirement already satisfied: syntok>1.3.3 in /usr/local/lib/python3.10/dist-packages (from ktrain) (1.4.4)\n",
      "Requirement already satisfied: tika in /usr/local/lib/python3.10/dist-packages (from ktrain) (2.6.0)\n",
      "Requirement already satisfied: transformers in /usr/local/lib/python3.10/dist-packages (from ktrain) (4.28.0)\n",
      "Requirement already satisfied: sentencepiece in /usr/local/lib/python3.10/dist-packages (from ktrain) (0.1.99)\n",
      "Requirement already satisfied: keras-bert>=0.86.0 in /usr/local/lib/python3.10/dist-packages (from ktrain) (0.89.0)\n",
      "Requirement already satisfied: whoosh in /usr/local/lib/python3.10/dist-packages (from ktrain) (2.7.4)\n",
      "Requirement already satisfied: numpy in /usr/local/lib/python3.10/dist-packages (from keras-bert>=0.86.0->ktrain) (1.23.5)\n",
      "Requirement already satisfied: keras-transformer==0.40.0 in /usr/local/lib/python3.10/dist-packages (from keras-bert>=0.86.0->ktrain) (0.40.0)\n",
      "Requirement already satisfied: keras-pos-embd==0.13.0 in /usr/local/lib/python3.10/dist-packages (from keras-transformer==0.40.0->keras-bert>=0.86.0->ktrain) (0.13.0)\n",
      "Requirement already satisfied: keras-multi-head==0.29.0 in /usr/local/lib/python3.10/dist-packages (from keras-transformer==0.40.0->keras-bert>=0.86.0->ktrain) (0.29.0)\n",
      "Requirement already satisfied: keras-layer-normalization==0.16.0 in /usr/local/lib/python3.10/dist-packages (from keras-transformer==0.40.0->keras-bert>=0.86.0->ktrain) (0.16.0)\n",
      "Requirement already satisfied: keras-position-wise-feed-forward==0.8.0 in /usr/local/lib/python3.10/dist-packages (from keras-transformer==0.40.0->keras-bert>=0.86.0->ktrain) (0.8.0)\n",
      "Requirement already satisfied: keras-embed-sim==0.10.0 in /usr/local/lib/python3.10/dist-packages (from keras-transformer==0.40.0->keras-bert>=0.86.0->ktrain) (0.10.0)\n",
      "Requirement already satisfied: keras-self-attention==0.51.0 in /usr/local/lib/python3.10/dist-packages (from keras-multi-head==0.29.0->keras-transformer==0.40.0->keras-bert>=0.86.0->ktrain) (0.51.0)\n",
      "Requirement already satisfied: contourpy>=1.0.1 in /usr/local/lib/python3.10/dist-packages (from matplotlib>=3.0.0->ktrain) (1.2.1)\n",
      "Requirement already satisfied: cycler>=0.10 in /usr/local/lib/python3.10/dist-packages (from matplotlib>=3.0.0->ktrain) (0.12.1)\n",
      "Requirement already satisfied: fonttools>=4.22.0 in /usr/local/lib/python3.10/dist-packages (from matplotlib>=3.0.0->ktrain) (4.51.0)\n",
      "Requirement already satisfied: kiwisolver>=1.0.1 in /usr/local/lib/python3.10/dist-packages (from matplotlib>=3.0.0->ktrain) (1.4.5)\n",
      "Requirement already satisfied: pillow>=6.2.0 in /usr/local/lib/python3.10/dist-packages (from matplotlib>=3.0.0->ktrain) (9.4.0)\n",
      "Requirement already satisfied: pyparsing>=2.3.1 in /usr/local/lib/python3.10/dist-packages (from matplotlib>=3.0.0->ktrain) (3.1.2)\n",
      "Requirement already satisfied: python-dateutil>=2.7 in /usr/local/lib/python3.10/dist-packages (from matplotlib>=3.0.0->ktrain) (2.8.2)\n",
      "Requirement already satisfied: pytz>=2020.1 in /usr/local/lib/python3.10/dist-packages (from pandas>=1.0.1->ktrain) (2023.4)\n",
      "Requirement already satisfied: tzdata>=2022.1 in /usr/local/lib/python3.10/dist-packages (from pandas>=1.0.1->ktrain) (2024.1)\n",
      "Requirement already satisfied: regex>2016 in /usr/local/lib/python3.10/dist-packages (from syntok>1.3.3->ktrain) (2023.12.25)\n",
      "Requirement already satisfied: six in /usr/local/lib/python3.10/dist-packages (from langdetect->ktrain) (1.16.0)\n",
      "Requirement already satisfied: idna<4,>=2.5 in /usr/local/lib/python3.10/dist-packages (from requests->ktrain) (3.7)\n",
      "Requirement already satisfied: urllib3<3,>=1.21.1 in /usr/local/lib/python3.10/dist-packages (from requests->ktrain) (2.0.7)\n",
      "Requirement already satisfied: certifi>=2017.4.17 in /usr/local/lib/python3.10/dist-packages (from requests->ktrain) (2024.2.2)\n",
      "Requirement already satisfied: scipy>=1.3.2 in /usr/local/lib/python3.10/dist-packages (from scikit-learn->ktrain) (1.11.4)\n",
      "Requirement already satisfied: threadpoolctl>=2.0.0 in /usr/local/lib/python3.10/dist-packages (from scikit-learn->ktrain) (3.5.0)\n",
      "Requirement already satisfied: setuptools in /usr/local/lib/python3.10/dist-packages (from tika->ktrain) (67.7.2)\n",
      "Requirement already satisfied: filelock in /usr/local/lib/python3.10/dist-packages (from transformers->ktrain) (3.14.0)\n",
      "Requirement already satisfied: huggingface-hub<1.0,>=0.11.0 in /usr/local/lib/python3.10/dist-packages (from transformers->ktrain) (0.23.1)\n",
      "Requirement already satisfied: pyyaml>=5.1 in /usr/local/lib/python3.10/dist-packages (from transformers->ktrain) (6.0.1)\n",
      "Requirement already satisfied: tokenizers!=0.11.3,<0.14,>=0.11.1 in /usr/local/lib/python3.10/dist-packages (from transformers->ktrain) (0.13.3)\n",
      "Requirement already satisfied: tqdm>=4.27 in /usr/local/lib/python3.10/dist-packages (from transformers->ktrain) (4.66.4)\n",
      "Requirement already satisfied: fsspec>=2023.5.0 in /usr/local/lib/python3.10/dist-packages (from huggingface-hub<1.0,>=0.11.0->transformers->ktrain) (2023.6.0)\n",
      "Requirement already satisfied: typing-extensions>=3.7.4.3 in /usr/local/lib/python3.10/dist-packages (from huggingface-hub<1.0,>=0.11.0->transformers->ktrain) (4.11.0)\n"
     ]
    }
   ],
   "source": [
    "!pip install tensorflow==2.12.0\n",
    "!pip install keras==2.12.0\n",
    "\n",
    "!pip install transformers==4.28.0\n",
    "\n",
    "!pip install ktrain"
   ]
  },
  {
   "cell_type": "code",
   "execution_count": 1,
   "metadata": {
    "id": "by2kbOMiFgJA"
   },
   "outputs": [],
   "source": []
  },
  {
   "cell_type": "code",
   "execution_count": 1,
   "metadata": {
    "id": "G2afi5rdxGPh"
   },
   "outputs": [],
   "source": []
  },
  {
   "cell_type": "markdown",
   "metadata": {
    "id": "sPWOa4VuxLCz"
   },
   "source": [
    "This is a text cell..."
   ]
  },
  {
   "cell_type": "code",
   "execution_count": 1,
   "metadata": {
    "id": "XQW6wxoZ7PE3"
   },
   "outputs": [],
   "source": []
  },
  {
   "cell_type": "code",
   "execution_count": 2,
   "metadata": {
    "colab": {
     "base_uri": "https://localhost:8080/"
    },
    "id": "tLkHkmX07PAk",
    "outputId": "7f5ee585-1240-4c47-e1fc-749c21564287"
   },
   "outputs": [
    {
     "name": "stdout",
     "output_type": "stream",
     "text": [
      "Drive already mounted at /content/drive; to attempt to forcibly remount, call drive.mount(\"/content/drive\", force_remount=True).\n"
     ]
    }
   ],
   "source": [
    "# Mount Google Drive\n",
    "from google.colab import drive\n",
    "drive.mount('/content/drive')"
   ]
  },
  {
   "cell_type": "code",
   "execution_count": 2,
   "metadata": {
    "id": "6YdWtlfF8Xp2"
   },
   "outputs": [],
   "source": []
  },
  {
   "cell_type": "code",
   "execution_count": 3,
   "metadata": {
    "id": "e254nJ1x8XiG"
   },
   "outputs": [],
   "source": [
    "import os\n",
    "import ktrain\n",
    "from ktrain import text\n",
    "\n",
    "import pandas as pd\n",
    "import numpy as np"
   ]
  },
  {
   "cell_type": "code",
   "execution_count": 3,
   "metadata": {
    "id": "HWovjSjS-YWS"
   },
   "outputs": [],
   "source": []
  },
  {
   "cell_type": "code",
   "execution_count": 3,
   "metadata": {
    "id": "ic-wRhNB-YOx"
   },
   "outputs": [],
   "source": [
    "\n"
   ]
  },
  {
   "cell_type": "code",
   "execution_count": 3,
   "metadata": {
    "id": "8SZu3VX47O6w"
   },
   "outputs": [],
   "source": []
  },
  {
   "cell_type": "code",
   "execution_count": 3,
   "metadata": {
    "id": "b0BD-L7L5iBN"
   },
   "outputs": [],
   "source": []
  },
  {
   "cell_type": "code",
   "execution_count": 4,
   "metadata": {
    "colab": {
     "base_uri": "https://localhost:8080/"
    },
    "id": "ul3ND3zU5pUs",
    "outputId": "28382c19-7394-40de-b202-cc7bf453d04f"
   },
   "outputs": [
    {
     "name": "stdout",
     "output_type": "stream",
     "text": [
      "Sun May 26 01:10:13 2024       \n",
      "+---------------------------------------------------------------------------------------+\n",
      "| NVIDIA-SMI 535.104.05             Driver Version: 535.104.05   CUDA Version: 12.2     |\n",
      "|-----------------------------------------+----------------------+----------------------+\n",
      "| GPU  Name                 Persistence-M | Bus-Id        Disp.A | Volatile Uncorr. ECC |\n",
      "| Fan  Temp   Perf          Pwr:Usage/Cap |         Memory-Usage | GPU-Util  Compute M. |\n",
      "|                                         |                      |               MIG M. |\n",
      "|=========================================+======================+======================|\n",
      "|   0  NVIDIA A100-SXM4-40GB          Off | 00000000:00:04.0 Off |                    0 |\n",
      "| N/A   30C    P0              44W / 400W |      2MiB / 40960MiB |      0%      Default |\n",
      "|                                         |                      |             Disabled |\n",
      "+-----------------------------------------+----------------------+----------------------+\n",
      "                                                                                         \n",
      "+---------------------------------------------------------------------------------------+\n",
      "| Processes:                                                                            |\n",
      "|  GPU   GI   CI        PID   Type   Process name                            GPU Memory |\n",
      "|        ID   ID                                                             Usage      |\n",
      "|=======================================================================================|\n",
      "|  No running processes found                                                           |\n",
      "+---------------------------------------------------------------------------------------+\n"
     ]
    }
   ],
   "source": [
    "#import os\n",
    "#try:\n",
    "#  import ktrain\n",
    "#except:\n",
    "#  !pip install ktrain\n",
    "#  os.kill(os.getpid(), 9)\n",
    "\n",
    "\n",
    "\n",
    "# Set your google colab runtime to use GPU, a must for deep learning!\n",
    "# Runtime > Change Runtime Type > GPU\n",
    "\n",
    "# The following code snippet will show you GPU information for your runtime.\n",
    "gpu_info = !nvidia-smi\n",
    "gpu_info = '\\n'.join(gpu_info)\n",
    "if gpu_info.find('failed') >= 0:\n",
    "  print('Not connected to a GPU')\n",
    "else:\n",
    "  print(gpu_info)\n",
    "\n",
    "# Load the data\n",
    "#/content/drive/MyDrive/Supervised_Final_Project/news_category_trainingdata.json\n",
    "reviews = pd.read_json(\"/content/drive/MyDrive/Supervised_Final_Project/news_category_trainingdata.json\")\n",
    "\n",
    "# Inspect the data\n",
    "reviews.head()\n",
    "\n",
    "# Prepare the data\n",
    "reviews['combined_text'] = reviews['headline'] + ' ' + reviews['short_description']\n",
    "\n",
    "# Update the labeling process\n",
    "#########################################\n",
    "reviews['wellness'] = np.where((reviews['category'].isin(['HEALTHY LIVING', 'WELLNESS'])), 1, 0)\n",
    "#########################################\n",
    "\n",
    "# Balance the data\n",
    "# Create a balanced data set\n",
    "#########################################\n",
    "sample_amount = 1000\n",
    "\n",
    "wellness = reviews[reviews['wellness'] == 1].sample(n=sample_amount)\n",
    "not_wellness = reviews[reviews['wellness'] == 0].sample(n=sample_amount)\n",
    "\n",
    "review_sample = pd.concat([wellness, not_wellness])\n",
    "#########################################\n",
    "\n",
    "review_sample.describe()\n",
    "\n",
    "# On to Lab 2: Test, Tune and Save Models\n",
    "target_names = ['NOT WELLNESS', 'WELLNESS']\n",
    "\n",
    "\n",
    "\n"
   ]
  },
  {
   "cell_type": "code",
   "execution_count": 4,
   "metadata": {
    "id": "1V6cFbWpEzW-"
   },
   "outputs": [],
   "source": []
  },
  {
   "cell_type": "code",
   "execution_count": 5,
   "metadata": {
    "colab": {
     "base_uri": "https://localhost:8080/",
     "height": 1000
    },
    "id": "c0dA94dCEzHw",
    "outputId": "0f50ca04-c2eb-4336-e1fe-855472128f53"
   },
   "outputs": [
    {
     "name": "stdout",
     "output_type": "stream",
     "text": [
      "\n",
      "\n",
      "Training model: bert\n",
      "==================================================\n",
      "\n",
      "<module 'ktrain.text' from '/usr/local/lib/python3.10/dist-packages/ktrain/text/__init__.py'>\n",
      "['AnswerExtractor', 'EnglishTranslator', 'SimpleQA', 'TextExtractor', 'Transformer', 'TransformerEmbedding', 'TransformerSummarizer', 'Translator', 'ZeroShotClassifier', '__all__', '__builtins__', '__cached__', '__doc__', '__file__', '__loader__', '__name__', '__package__', '__path__', '__spec__', 'data', 'eda', 'entities_from_array', 'entities_from_conll2003', 'entities_from_df', 'entities_from_gmb', 'entities_from_txt', 'extract_filenames', 'filter_by_id', 'get_topic_model', 'learner', 'load_text_files', 'load_topic_model', 'models', 'ner', 'pickle', 'predictor', 'preprocessor', 'print_sequence_taggers', 'print_text_classifiers', 'print_text_regression_models', 'qa', 'seqlen_stats', 'sequence_tagger', 'shallownlp', 'summarization', 'text_classifier', 'text_regression_model', 'textextractor', 'texts_from_array', 'texts_from_csv', 'texts_from_df', 'texts_from_folder', 'textutils', 'translation', 'zsl']\n",
      "['not_wellness', 'wellness']\n",
      "        not_wellness  wellness\n",
      "49070            1.0       0.0\n",
      "138156           1.0       0.0\n",
      "68702            1.0       0.0\n",
      "186762           0.0       1.0\n",
      "156876           1.0       0.0\n",
      "['not_wellness', 'wellness']\n",
      "        not_wellness  wellness\n",
      "119709           0.0       1.0\n",
      "170114           0.0       1.0\n",
      "177784           0.0       1.0\n",
      "151989           1.0       0.0\n",
      "151143           0.0       1.0\n",
      "preprocessing train...\n",
      "language: en\n"
     ]
    },
    {
     "data": {
      "text/html": [
       "\n",
       "<style>\n",
       "    /* Turns off some styling */\n",
       "    progress {\n",
       "        /* gets rid of default border in Firefox and Opera. */\n",
       "        border: none;\n",
       "        /* Needs to be in here for Safari polyfill so background images work as expected. */\n",
       "        background-size: auto;\n",
       "    }\n",
       "    progress:not([value]), progress:not([value])::-webkit-progress-bar {\n",
       "        background: repeating-linear-gradient(45deg, #7e7e7e, #7e7e7e 10px, #5c5c5c 10px, #5c5c5c 20px);\n",
       "    }\n",
       "    .progress-bar-interrupted, .progress-bar-interrupted::-webkit-progress-bar {\n",
       "        background: #F44336;\n",
       "    }\n",
       "</style>\n"
      ],
      "text/plain": [
       "<IPython.core.display.HTML object>"
      ]
     },
     "metadata": {},
     "output_type": "display_data"
    },
    {
     "data": {
      "text/html": [
       "done."
      ],
      "text/plain": [
       "<IPython.core.display.HTML object>"
      ]
     },
     "metadata": {},
     "output_type": "display_data"
    },
    {
     "name": "stdout",
     "output_type": "stream",
     "text": [
      "Is Multi-Label? False\n",
      "preprocessing test...\n",
      "language: en\n"
     ]
    },
    {
     "data": {
      "text/html": [
       "\n",
       "<style>\n",
       "    /* Turns off some styling */\n",
       "    progress {\n",
       "        /* gets rid of default border in Firefox and Opera. */\n",
       "        border: none;\n",
       "        /* Needs to be in here for Safari polyfill so background images work as expected. */\n",
       "        background-size: auto;\n",
       "    }\n",
       "    progress:not([value]), progress:not([value])::-webkit-progress-bar {\n",
       "        background: repeating-linear-gradient(45deg, #7e7e7e, #7e7e7e 10px, #5c5c5c 10px, #5c5c5c 20px);\n",
       "    }\n",
       "    .progress-bar-interrupted, .progress-bar-interrupted::-webkit-progress-bar {\n",
       "        background: #F44336;\n",
       "    }\n",
       "</style>\n"
      ],
      "text/plain": [
       "<IPython.core.display.HTML object>"
      ]
     },
     "metadata": {},
     "output_type": "display_data"
    },
    {
     "data": {
      "text/html": [
       "done."
      ],
      "text/plain": [
       "<IPython.core.display.HTML object>"
      ]
     },
     "metadata": {},
     "output_type": "display_data"
    },
    {
     "name": "stdout",
     "output_type": "stream",
     "text": [
      "Is Multi-Label? False\n",
      "maxlen is 512\n"
     ]
    },
    {
     "name": "stderr",
     "output_type": "stream",
     "text": [
      "/usr/local/lib/python3.10/dist-packages/keras/initializers/initializers.py:120: UserWarning: The initializer GlorotNormal is unseeded and being called multiple times, which will return identical values each time (even if the initializer is unseeded). Please update your code to provide a seed to the initializer, or avoid using the same initalizer instance more than once.\n",
      "  warnings.warn(\n"
     ]
    },
    {
     "name": "stdout",
     "output_type": "stream",
     "text": [
      "done.\n"
     ]
    },
    {
     "name": "stderr",
     "output_type": "stream",
     "text": [
      "/usr/local/lib/python3.10/dist-packages/ktrain/__init__.py:100: UserWarning: For a GPU with 12GB of RAM, the following maxima apply:\n",
      "        sequence len=64, max_batch_size=64\n",
      "        sequence len=128, max_batch_size=32\n",
      "        sequence len=256, max_batch_size=16\n",
      "        sequence len=320, max_batch_size=14\n",
      "        sequence len=384, max_batch_size=12\n",
      "        sequence len=512, max_batch_size=6\n",
      "\n",
      "        You've exceeded these limits.\n",
      "        If using a GPU with <=12GB of memory, you may run out of memory during training.\n",
      "        If necessary, adjust sequence length or batch size based on above.\n",
      "  I.warnings.warn(msg)\n"
     ]
    },
    {
     "name": "stdout",
     "output_type": "stream",
     "text": [
      "simulating training for different learning rates... this may take a few moments...\n",
      "Epoch 1/6\n",
      "113/113 [==============================] - 1267s 11s/step - loss: 0.7077 - accuracy: 0.5089\n",
      "Epoch 2/6\n",
      "113/113 [==============================] - 1244s 11s/step - loss: 0.4925 - accuracy: 0.7683\n",
      "Epoch 3/6\n",
      "113/113 [==============================] - 1242s 11s/step - loss: 0.4885 - accuracy: 0.7578\n",
      "Epoch 4/6\n",
      "113/113 [==============================] - 1244s 11s/step - loss: 1.0951 - accuracy: 0.5272\n",
      "Epoch 5/6\n",
      "113/113 [==============================] - 221s 2s/step - loss: 3.8341 - accuracy: 0.4969\n",
      "\n",
      "\n",
      "done.\n",
      "Please invoke the Learner.lr_plot() method to visually inspect the loss plot to help identify the maximal learning rate associated with falling loss.\n"
     ]
    },
    {
     "data": {
      "image/png": "[encoded data removed]",
      "text/plain": [
       "<Figure size 640x480 with 1 Axes>"
      ]
     },
     "metadata": {},
     "output_type": "display_data"
    },
    {
     "name": "stdout",
     "output_type": "stream",
     "text": [
      "Suggested learning rate for bert: 3.109035023953766e-05\n",
      "\n",
      "\n",
      "\n",
      "begin training using triangular learning rate policy with max lr of 3.109035023953766e-05...\n",
      "Epoch 1/10\n",
      "113/113 [==============================] - 1318s 11s/step - loss: 0.4237 - accuracy: 0.8111 - val_loss: 0.2447 - val_accuracy: 0.9100\n",
      "Epoch 2/10\n",
      "113/113 [==============================] - ETA: 0s - loss: 0.2187 - accuracy: 0.9211 Restoring model weights from the end of the best epoch: 1.\n",
      "113/113 [==============================] - 1293s 11s/step - loss: 0.2187 - accuracy: 0.9211 - val_loss: 0.2811 - val_accuracy: 0.8950\n",
      "Epoch 2: early stopping\n",
      "Weights from best epoch have been loaded into model.\n",
      "7/7 [==============================] - 49s 6s/step\n",
      "              precision    recall  f1-score   support\n",
      "\n",
      "           0       0.92      0.87      0.89        87\n",
      "           1       0.91      0.94      0.92       113\n",
      "\n",
      "    accuracy                           0.91       200\n",
      "   macro avg       0.91      0.91      0.91       200\n",
      "weighted avg       0.91      0.91      0.91       200\n",
      "\n",
      "Validation metrics for bert:\n",
      "[[ 76  11]\n",
      " [  7 106]]\n",
      "\n",
      "---------------------------\n",
      "The probability this is wellness for bert is 0.9612818\n",
      "Stress May Be Your Heart’s Worst Enemy Psychological stress activates the fear center in the brain, setting into motion a cascade of reactions that can lead to heart attacks and strokes.\n",
      "---------------------------\n",
      "The probability this is wellness for bert is 0.9005292\n",
      "Exercising to Slim Down? Try Getting Bigger. It’s high time for women to reclaim the real strength behind exercise.\n",
      "---------------------------\n",
      "The probability this is wellness for bert is 0.6962478\n",
      "What Are Your Food Resolutions for the New Year? Join us for the Eat Well Challenge starting in January.\n",
      "---------------------------\n",
      "The probability this is wellness for bert is 0.7770453\n",
      "Why We All Need to Have More Fun. Prioritizing fun may feel impossible.\n",
      "\n",
      "\n",
      "\n",
      "\n",
      "\n",
      "Training model: distilbert\n",
      "==================================================\n",
      "\n",
      "<module 'ktrain.text' from '/usr/local/lib/python3.10/dist-packages/ktrain/text/__init__.py'>\n",
      "['AnswerExtractor', 'EnglishTranslator', 'SimpleQA', 'TextExtractor', 'Transformer', 'TransformerEmbedding', 'TransformerSummarizer', 'Translator', 'ZeroShotClassifier', '__all__', '__builtins__', '__cached__', '__doc__', '__file__', '__loader__', '__name__', '__package__', '__path__', '__spec__', 'data', 'eda', 'entities_from_array', 'entities_from_conll2003', 'entities_from_df', 'entities_from_gmb', 'entities_from_txt', 'extract_filenames', 'filter_by_id', 'get_topic_model', 'learner', 'load_text_files', 'load_topic_model', 'models', 'ner', 'pickle', 'predictor', 'preprocessor', 'print_sequence_taggers', 'print_text_classifiers', 'print_text_regression_models', 'qa', 'seqlen_stats', 'sequence_tagger', 'shallownlp', 'summarization', 'text_classifier', 'text_regression_model', 'textextractor', 'texts_from_array', 'texts_from_csv', 'texts_from_df', 'texts_from_folder', 'textutils', 'translation', 'zsl']\n",
      "['not_wellness', 'wellness']\n",
      "        not_wellness  wellness\n",
      "28796            1.0       0.0\n",
      "46378            1.0       0.0\n",
      "23396            1.0       0.0\n",
      "94388            1.0       0.0\n",
      "186843           0.0       1.0\n",
      "['not_wellness', 'wellness']\n",
      "        not_wellness  wellness\n",
      "61927            1.0       0.0\n",
      "53889            1.0       0.0\n",
      "119250           1.0       0.0\n",
      "195231           0.0       1.0\n",
      "183149           0.0       1.0\n"
     ]
    },
    {
     "name": "stderr",
     "output_type": "stream",
     "text": [
      "/usr/local/lib/python3.10/dist-packages/huggingface_hub/utils/_token.py:89: UserWarning: \n",
      "The secret `HF_TOKEN` does not exist in your Colab secrets.\n",
      "To authenticate with the Hugging Face Hub, create a token in your settings tab (https://huggingface.co/settings/tokens), set it as secret in your Google Colab and restart your session.\n",
      "You will be able to reuse this secret in all of your notebooks.\n",
      "Please note that authentication is recommended but still optional to access public models or datasets.\n",
      "  warnings.warn(\n"
     ]
    },
    {
     "name": "stdout",
     "output_type": "stream",
     "text": [
      "preprocessing train...\n",
      "language: en\n",
      "train sequence lengths:\n",
      "\tmean : 33\n",
      "\t95percentile : 58\n",
      "\t99percentile : 68\n"
     ]
    },
    {
     "data": {
      "text/html": [
       "\n",
       "<style>\n",
       "    /* Turns off some styling */\n",
       "    progress {\n",
       "        /* gets rid of default border in Firefox and Opera. */\n",
       "        border: none;\n",
       "        /* Needs to be in here for Safari polyfill so background images work as expected. */\n",
       "        background-size: auto;\n",
       "    }\n",
       "    progress:not([value]), progress:not([value])::-webkit-progress-bar {\n",
       "        background: repeating-linear-gradient(45deg, #7e7e7e, #7e7e7e 10px, #5c5c5c 10px, #5c5c5c 20px);\n",
       "    }\n",
       "    .progress-bar-interrupted, .progress-bar-interrupted::-webkit-progress-bar {\n",
       "        background: #F44336;\n",
       "    }\n",
       "</style>\n"
      ],
      "text/plain": [
       "<IPython.core.display.HTML object>"
      ]
     },
     "metadata": {},
     "output_type": "display_data"
    },
    {
     "data": {
      "text/html": [],
      "text/plain": [
       "<IPython.core.display.HTML object>"
      ]
     },
     "metadata": {},
     "output_type": "display_data"
    },
    {
     "name": "stdout",
     "output_type": "stream",
     "text": [
      "Is Multi-Label? False\n",
      "preprocessing test...\n",
      "language: en\n",
      "test sequence lengths:\n",
      "\tmean : 29\n",
      "\t95percentile : 54\n",
      "\t99percentile : 60\n"
     ]
    },
    {
     "data": {
      "text/html": [
       "\n",
       "<style>\n",
       "    /* Turns off some styling */\n",
       "    progress {\n",
       "        /* gets rid of default border in Firefox and Opera. */\n",
       "        border: none;\n",
       "        /* Needs to be in here for Safari polyfill so background images work as expected. */\n",
       "        background-size: auto;\n",
       "    }\n",
       "    progress:not([value]), progress:not([value])::-webkit-progress-bar {\n",
       "        background: repeating-linear-gradient(45deg, #7e7e7e, #7e7e7e 10px, #5c5c5c 10px, #5c5c5c 20px);\n",
       "    }\n",
       "    .progress-bar-interrupted, .progress-bar-interrupted::-webkit-progress-bar {\n",
       "        background: #F44336;\n",
       "    }\n",
       "</style>\n"
      ],
      "text/plain": [
       "<IPython.core.display.HTML object>"
      ]
     },
     "metadata": {},
     "output_type": "display_data"
    },
    {
     "data": {
      "text/html": [],
      "text/plain": [
       "<IPython.core.display.HTML object>"
      ]
     },
     "metadata": {},
     "output_type": "display_data"
    },
    {
     "name": "stdout",
     "output_type": "stream",
     "text": [
      "Is Multi-Label? False\n",
      "maxlen is 512\n",
      "done.\n",
      "simulating training for different learning rates... this may take a few moments...\n",
      "Epoch 1/6\n",
      "112/112 [==============================] - 614s 5s/step - loss: 0.6828 - accuracy: 0.6239\n",
      "Epoch 2/6\n",
      "112/112 [==============================] - 599s 5s/step - loss: 0.4249 - accuracy: 0.8442\n",
      "Epoch 3/6\n",
      "112/112 [==============================] - 598s 5s/step - loss: 0.4380 - accuracy: 0.8004\n",
      "Epoch 4/6\n",
      "112/112 [==============================] - 598s 5s/step - loss: 0.9294 - accuracy: 0.5011\n",
      "Epoch 5/6\n",
      "112/112 [==============================] - 599s 5s/step - loss: 0.7650 - accuracy: 0.5073\n",
      "Epoch 6/6\n",
      "112/112 [==============================] - 599s 5s/step - loss: 0.8347 - accuracy: 0.4966\n",
      "\n",
      "\n",
      "done.\n",
      "Please invoke the Learner.lr_plot() method to visually inspect the loss plot to help identify the maximal learning rate associated with falling loss.\n"
     ]
    },
    {
     "data": {
      "image/png": "[encoded data removed]",
      "text/plain": [
       "<Figure size 640x480 with 1 Axes>"
      ]
     },
     "metadata": {},
     "output_type": "display_data"
    },
    {
     "name": "stdout",
     "output_type": "stream",
     "text": [
      "Suggested learning rate for distilbert: 2.993578091263771e-05\n",
      "\n",
      "\n",
      "\n",
      "begin training using triangular learning rate policy with max lr of 2.993578091263771e-05...\n",
      "Epoch 1/10\n",
      "113/113 [==============================] - 617s 5s/step - loss: 0.4284 - accuracy: 0.8067 - val_loss: 0.3365 - val_accuracy: 0.8450\n",
      "Epoch 2/10\n",
      "113/113 [==============================] - 607s 5s/step - loss: 0.1866 - accuracy: 0.9400 - val_loss: 0.3185 - val_accuracy: 0.8700\n",
      "Epoch 3/10\n",
      "113/113 [==============================] - ETA: 0s - loss: 0.0979 - accuracy: 0.9700Restoring model weights from the end of the best epoch: 2.\n",
      "113/113 [==============================] - 607s 5s/step - loss: 0.0979 - accuracy: 0.9700 - val_loss: 0.3752 - val_accuracy: 0.8700\n",
      "Epoch 3: early stopping\n",
      "Weights from best epoch have been loaded into model.\n",
      "7/7 [==============================] - 5s 472ms/step\n",
      "              precision    recall  f1-score   support\n",
      "\n",
      "           0       0.84      0.88      0.86        92\n",
      "           1       0.89      0.86      0.88       108\n",
      "\n",
      "    accuracy                           0.87       200\n",
      "   macro avg       0.87      0.87      0.87       200\n",
      "weighted avg       0.87      0.87      0.87       200\n",
      "\n",
      "Validation metrics for distilbert:\n",
      "[[81 11]\n",
      " [15 93]]\n",
      "\n",
      "---------------------------\n",
      "The probability this is wellness for distilbert is 0.9878684\n",
      "Stress May Be Your Heart’s Worst Enemy Psychological stress activates the fear center in the brain, setting into motion a cascade of reactions that can lead to heart attacks and strokes.\n",
      "---------------------------\n",
      "The probability this is wellness for distilbert is 0.9822295\n",
      "Exercising to Slim Down? Try Getting Bigger. It’s high time for women to reclaim the real strength behind exercise.\n",
      "---------------------------\n",
      "The probability this is wellness for distilbert is 0.9607817\n",
      "What Are Your Food Resolutions for the New Year? Join us for the Eat Well Challenge starting in January.\n",
      "---------------------------\n",
      "The probability this is wellness for distilbert is 0.9768374\n",
      "Why We All Need to Have More Fun. Prioritizing fun may feel impossible.\n",
      "\n",
      "\n",
      "\n"
     ]
    }
   ],
   "source": [
    "# Experimenting with different transformers\n",
    "#models = ['distilbert', 'bert', 'roberta', 'distilroberta', 'albert', 'xlnet', 'electra', 'bart', 'gpt2']\n",
    "models = {\n",
    "    'bert': 'bert',\n",
    "    'distilbert': 'distilbert'\n",
    "    #'roberta': 'roberta', # does not work\n",
    "    #'albert': 'albert', # does not work\n",
    "    #'xlnet': 'xlnet', # does not work\n",
    "    #'electra': 'electra', # does not work\n",
    "    #'bart': 'bart', # does not work\n",
    "    #'xlnet': 'xlnet', # does not work\n",
    "    #'distilroberta': 'distilroberta', # does not work\n",
    "    #'gpt2': 'gpt2' # does not work\n",
    "}\n",
    "\n",
    "\n",
    "for model_name, transformer_name in models.items():\n",
    "    print(f\"\\n\\nTraining model: {model_name}\\n{'='*50}\\n\")\n",
    "\n",
    "    # Reimport text to ensure it is not modified\n",
    "    from ktrain import text\n",
    "\n",
    "    # Print the text object and its attributes\n",
    "    print(text)\n",
    "    print(dir(text))\n",
    "\n",
    "    # Data preparation\n",
    "    train, val, preprocess = text.texts_from_df(\n",
    "        review_sample,\n",
    "        \"combined_text\",\n",
    "        label_columns=[\"wellness\"],\n",
    "        val_pct=0.1,\n",
    "        maxlen=512,\n",
    "        preprocess_mode=model_name\n",
    "    )\n",
    "\n",
    "    # Model initialization\n",
    "    model = text.text_classifier(transformer_name, train_data=train, preproc=preprocess, metrics=['accuracy'])\n",
    "    learner = ktrain.get_learner(model, train_data=train, val_data=val, batch_size=16)\n",
    "\n",
    "    # Run learning rate finder\n",
    "    learner.lr_find(max_epochs=6)\n",
    "    learner.lr_plot()\n",
    "\n",
    "    # Get the suggested learning rate\n",
    "    suggested_lr = learner.lr_estimate()[1]\n",
    "    print(f\"Suggested learning rate for {model_name}: {suggested_lr}\\n\")\n",
    "\n",
    "    # Train the model with early stopping\n",
    "    history = learner.autofit(\n",
    "        suggested_lr,  # Use the suggested learning rate\n",
    "        checkpoint_folder='checkpoint',\n",
    "        epochs=10,\n",
    "        early_stopping=True\n",
    "    )\n",
    "\n",
    "    # Get the predictor\n",
    "    predictor = ktrain.get_predictor(learner.model, preproc=preprocess)\n",
    "\n",
    "    # Validate the model\n",
    "    validation = learner.validate(val_data=val, print_report=True)\n",
    "    print(f\"Validation metrics for {model_name}:\\n{validation}\\n\")\n",
    "\n",
    "    # Optional: Save the predictor\n",
    "    predictor.save(f\"drive/MyDrive/MSDSTextClassification_Lab2_{model_name}.wellness\")\n",
    "\n",
    "    # Inspecting the drivers of prediction for test docs\n",
    "    test_docs = [\n",
    "        'Stress May Be Your Heart’s Worst Enemy Psychological stress activates the fear center in the brain, setting into motion a cascade of reactions that can lead to heart attacks and strokes.',\n",
    "        'Exercising to Slim Down? Try Getting Bigger. It’s high time for women to reclaim the real strength behind exercise.',\n",
    "        'What Are Your Food Resolutions for the New Year? Join us for the Eat Well Challenge starting in January.',\n",
    "        'Why We All Need to Have More Fun. Prioritizing fun may feel impossible.'\n",
    "    ]\n",
    "\n",
    "    for i, text in enumerate(test_docs):\n",
    "        probs = predictor.predict(text, return_proba=True)\n",
    "        print(\"---------------------------\")\n",
    "        print(f'The probability this is wellness for {model_name} is %s' % probs[1])\n",
    "        print(text)\n",
    "\n",
    "    print(\"\\n\\n\")\n"
   ]
  },
  {
   "cell_type": "code",
   "execution_count": 5,
   "metadata": {
    "id": "0UBYIVOO5pRo"
   },
   "outputs": [],
   "source": []
  },
  {
   "cell_type": "code",
   "execution_count": 6,
   "metadata": {
    "colab": {
     "base_uri": "https://localhost:8080/"
    },
    "id": "_cs5K5rU5pKT",
    "outputId": "a3017e99-48e3-4ad9-b98a-12b4ef00d0ab"
   },
   "outputs": [
    {
     "name": "stdout",
     "output_type": "stream",
     "text": [
      "7/7 [==============================] - 3s 456ms/step\n",
      "              precision    recall  f1-score   support\n",
      "\n",
      "           0       0.84      0.88      0.86        92\n",
      "           1       0.89      0.86      0.88       108\n",
      "\n",
      "    accuracy                           0.87       200\n",
      "   macro avg       0.87      0.87      0.87       200\n",
      "weighted avg       0.87      0.87      0.87       200\n",
      "\n",
      "[[81 11]\n",
      " [15 93]]\n"
     ]
    }
   ],
   "source": [
    "validation = learner.validate(val_data=val, print_report=True)\n",
    "print(validation)\n"
   ]
  }
 ],
 "metadata": {
  "accelerator": "GPU",
  "colab": {
   "gpuType": "A100",
   "machine_shape": "hm",
   "provenance": []
  },
  "kernelspec": {
   "display_name": "Python 3 (ipykernel)",
   "language": "python",
   "name": "python3"
  },
  "language_info": {
   "codemirror_mode": {
    "name": "ipython",
    "version": 3
   },
   "file_extension": ".py",
   "mimetype": "text/x-python",
   "name": "python",
   "nbconvert_exporter": "python",
   "pygments_lexer": "ipython3",
   "version": "3.11.7"
  }
 },
 "nbformat": 4,
 "nbformat_minor": 1
}
